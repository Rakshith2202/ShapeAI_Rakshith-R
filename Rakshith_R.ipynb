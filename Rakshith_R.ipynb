{
  "nbformat": 4,
  "nbformat_minor": 0,
  "metadata": {
    "colab": {
      "name": "Rakshith R.ipynb",
      "provenance": [],
      "collapsed_sections": []
    },
    "kernelspec": {
      "name": "python3",
      "display_name": "Python 3"
    },
    "language_info": {
      "name": "python"
    }
  },
  "cells": [
    {
      "cell_type": "code",
      "metadata": {
        "colab": {
          "base_uri": "https://localhost:8080/"
        },
        "id": "C56zOH9r19BR",
        "outputId": "425861a3-893d-40d4-e279-8eca637266fb"
      },
      "source": [
        "from keras.datasets import mnist\n",
        "data = mnist.load_data()\n",
        "((X_train,y_train),(X_test,y_test)) = data\n",
        "X_train[0].shape\n",
        "\n",
        "X_train = X_train.reshape((X_train.shape[0],28*28)).astype('float32')\n",
        "X_test = X_test.reshape((X_test.shape[0],28*28)).astype('float32')\n",
        "\n",
        "X_train = X_train/255\n",
        "X_test = X_test/255\n",
        "\n",
        "from keras.utils import np_utils\n",
        "y_train = np_utils.to_categorical(y_train)\n",
        "y_test = np_utils.to_categorical(y_test)\n",
        "num_classes = y_test.shape[1]\n",
        "\n",
        "from keras.models import Sequential\n",
        "from keras.layers import Dense\n",
        "\n",
        "model = Sequential()\n",
        "\n",
        "model.add(Dense(32,input_dim = 28*28 , activation = 'relu'))\n",
        "model.add(Dense(64 , activation = 'relu'))\n",
        "model.add(Dense(10 , activation = 'relu'))\n",
        "\n",
        "model.compile(loss = 'categorical_crossentropy' , optimizer = 'adam' , metrics = ['accuracy'])\n",
        "\n",
        "model.summary()\n",
        "\n",
        "model.fit(X_train,y_train, epochs = 10, batch_size=100)\n",
        "\n",
        "scores = model.evaluate(X_test,y_test)\n",
        "\n",
        "print(scores)\n",
        "\n",
        "\n",
        "\n",
        "\n",
        "\n",
        "\n",
        "\n",
        "\n"
      ],
      "execution_count": 25,
      "outputs": [
        {
          "output_type": "stream",
          "text": [
            "Model: \"sequential_6\"\n",
            "_________________________________________________________________\n",
            "Layer (type)                 Output Shape              Param #   \n",
            "=================================================================\n",
            "dense_18 (Dense)             (None, 32)                25120     \n",
            "_________________________________________________________________\n",
            "dense_19 (Dense)             (None, 64)                2112      \n",
            "_________________________________________________________________\n",
            "dense_20 (Dense)             (None, 10)                650       \n",
            "=================================================================\n",
            "Total params: 27,882\n",
            "Trainable params: 27,882\n",
            "Non-trainable params: 0\n",
            "_________________________________________________________________\n",
            "Epoch 1/10\n",
            "600/600 [==============================] - 2s 2ms/step - loss: nan - accuracy: 0.2175\n",
            "Epoch 2/10\n",
            "600/600 [==============================] - 1s 2ms/step - loss: nan - accuracy: 0.1000\n",
            "Epoch 3/10\n",
            "600/600 [==============================] - 1s 2ms/step - loss: nan - accuracy: 0.0977\n",
            "Epoch 4/10\n",
            "600/600 [==============================] - 1s 2ms/step - loss: nan - accuracy: 0.0999\n",
            "Epoch 5/10\n",
            "600/600 [==============================] - 1s 2ms/step - loss: nan - accuracy: 0.0975\n",
            "Epoch 6/10\n",
            "600/600 [==============================] - 1s 2ms/step - loss: nan - accuracy: 0.0968\n",
            "Epoch 7/10\n",
            "600/600 [==============================] - 1s 2ms/step - loss: nan - accuracy: 0.0985\n",
            "Epoch 8/10\n",
            "600/600 [==============================] - 1s 2ms/step - loss: nan - accuracy: 0.0988\n",
            "Epoch 9/10\n",
            "600/600 [==============================] - 1s 2ms/step - loss: nan - accuracy: 0.1009\n",
            "Epoch 10/10\n",
            "600/600 [==============================] - 1s 2ms/step - loss: nan - accuracy: 0.0989\n",
            "313/313 [==============================] - 0s 884us/step - loss: nan - accuracy: 0.0980\n",
            "[nan, 0.09799999743700027]\n"
          ],
          "name": "stdout"
        }
      ]
    }
  ]
}